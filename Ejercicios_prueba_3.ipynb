{
  "nbformat": 4,
  "nbformat_minor": 0,
  "metadata": {
    "colab": {
      "name": "Ejercicios prueba 3",
      "provenance": [],
      "authorship_tag": "ABX9TyPXqws3aY7qTg0z59My5L4R",
      "include_colab_link": true
    },
    "kernelspec": {
      "name": "python3",
      "display_name": "Python 3"
    },
    "language_info": {
      "name": "python"
    }
  },
  "cells": [
    {
      "cell_type": "markdown",
      "metadata": {
        "id": "view-in-github",
        "colab_type": "text"
      },
      "source": [
        "<a href=\"https://colab.research.google.com/github/paulapalma1/ejercicios/blob/main/Ejercicios_prueba_3.ipynb\" target=\"_parent\"><img src=\"https://colab.research.google.com/assets/colab-badge.svg\" alt=\"Open In Colab\"/></a>"
      ]
    },
    {
      "cell_type": "markdown",
      "source": [
        "8 junio actividad subir nota (voluntario: grupal - máximo 3)\n",
        "15 junio prueba (debe estar completado cisco\n",
        "22 nota final de semestre\n",
        "29 pruebas pendientes\n",
        "1a o 2a semana julio examen \n",
        "8 agosto 2do semestre \n"
      ],
      "metadata": {
        "id": "pVpZTo3eiAPx"
      }
    },
    {
      "cell_type": "markdown",
      "source": [
        "arreglos"
      ],
      "metadata": {
        "id": "V3sx2vB7sZDl"
      }
    },
    {
      "cell_type": "code",
      "execution_count": null,
      "metadata": {
        "colab": {
          "base_uri": "https://localhost:8080/"
        },
        "id": "RRT_F9WphooO",
        "outputId": "b184817a-f60c-4e8e-90c7-ee4659eb9ed4"
      },
      "outputs": [
        {
          "output_type": "stream",
          "name": "stdout",
          "text": [
            "[1 2 3 4 5]\n"
          ]
        }
      ],
      "source": [
        "import numpy as np\n",
        "arreglo=np.array([1,2,3,4,5])\n",
        "\n",
        "#arreglo\n",
        "\n",
        "print(arreglo)"
      ]
    },
    {
      "cell_type": "code",
      "source": [
        "arreglo.ndim\n"
      ],
      "metadata": {
        "colab": {
          "base_uri": "https://localhost:8080/"
        },
        "id": "zOFUNnZatPYT",
        "outputId": "8d5eb1af-e585-42e8-b3c3-24eb4bce00b8"
      },
      "execution_count": null,
      "outputs": [
        {
          "output_type": "execute_result",
          "data": {
            "text/plain": [
              "1"
            ]
          },
          "metadata": {},
          "execution_count": 3
        }
      ]
    },
    {
      "cell_type": "code",
      "source": [
        "len(arreglo)"
      ],
      "metadata": {
        "colab": {
          "base_uri": "https://localhost:8080/"
        },
        "id": "MCMZst-5tXWD",
        "outputId": "4a6c85ad-340e-49fb-da0e-a5427cd53823"
      },
      "execution_count": null,
      "outputs": [
        {
          "output_type": "execute_result",
          "data": {
            "text/plain": [
              "5"
            ]
          },
          "metadata": {},
          "execution_count": 4
        }
      ]
    },
    {
      "cell_type": "code",
      "source": [
        "arreglo.shape"
      ],
      "metadata": {
        "colab": {
          "base_uri": "https://localhost:8080/"
        },
        "id": "KV4-rRPwtfe8",
        "outputId": "e26a0561-5036-401a-9e12-b68a200d373b"
      },
      "execution_count": null,
      "outputs": [
        {
          "output_type": "execute_result",
          "data": {
            "text/plain": [
              "(5,)"
            ]
          },
          "metadata": {},
          "execution_count": 5
        }
      ]
    },
    {
      "cell_type": "code",
      "source": [
        "arreglo[1:4]"
      ],
      "metadata": {
        "colab": {
          "base_uri": "https://localhost:8080/"
        },
        "id": "9Rr61jWlt0Ov",
        "outputId": "514f4863-6c26-4e7a-bde5-f4c1c2bb100b"
      },
      "execution_count": null,
      "outputs": [
        {
          "output_type": "execute_result",
          "data": {
            "text/plain": [
              "array([2, 3, 4])"
            ]
          },
          "metadata": {},
          "execution_count": 6
        }
      ]
    },
    {
      "cell_type": "code",
      "source": [
        "arreglo[:]"
      ],
      "metadata": {
        "colab": {
          "base_uri": "https://localhost:8080/"
        },
        "id": "q8rDjNjuudwK",
        "outputId": "9dfb42bc-3cd5-478e-f968-a95b1c15e287"
      },
      "execution_count": null,
      "outputs": [
        {
          "output_type": "execute_result",
          "data": {
            "text/plain": [
              "array([1, 2, 3, 4, 5])"
            ]
          },
          "metadata": {},
          "execution_count": 7
        }
      ]
    },
    {
      "cell_type": "code",
      "source": [
        "arreglo[::2]\n"
      ],
      "metadata": {
        "colab": {
          "base_uri": "https://localhost:8080/"
        },
        "id": "4-BRlpLXuypd",
        "outputId": "4a640c71-5044-4e23-b635-0df1e0c936fa"
      },
      "execution_count": null,
      "outputs": [
        {
          "output_type": "execute_result",
          "data": {
            "text/plain": [
              "array([1, 3, 5])"
            ]
          },
          "metadata": {},
          "execution_count": 8
        }
      ]
    },
    {
      "cell_type": "code",
      "source": [
        "arreglo[-3]"
      ],
      "metadata": {
        "colab": {
          "base_uri": "https://localhost:8080/"
        },
        "id": "Ny_CyC3PvuMD",
        "outputId": "a03cac21-4d2f-46fb-d09d-fe88bdb68e59"
      },
      "execution_count": null,
      "outputs": [
        {
          "output_type": "execute_result",
          "data": {
            "text/plain": [
              "3"
            ]
          },
          "metadata": {},
          "execution_count": 9
        }
      ]
    },
    {
      "cell_type": "code",
      "source": [
        "for i in range (len(arreglo)):\n",
        "  print(arreglo[i])"
      ],
      "metadata": {
        "colab": {
          "base_uri": "https://localhost:8080/"
        },
        "id": "kNhVERuQvyxE",
        "outputId": "f80743b5-347b-419c-a149-2d728201f9e6"
      },
      "execution_count": null,
      "outputs": [
        {
          "output_type": "stream",
          "name": "stdout",
          "text": [
            "1\n",
            "2\n",
            "3\n",
            "4\n",
            "5\n"
          ]
        }
      ]
    },
    {
      "cell_type": "markdown",
      "source": [
        ""
      ],
      "metadata": {
        "id": "PdFSBTyDxsXD"
      }
    },
    {
      "cell_type": "code",
      "source": [
        "import numpy as np\n",
        "import random as rd\n",
        "arreglo1=np.zeros(10,dtype=int) #inicializa el arreglo con zeros \n",
        "print(arreglo1)\n",
        "\n",
        "for i in range(10):\n",
        "  arreglo1[i]=rd.randint(0,100)\n",
        "\n",
        "print(arreglo1)\n",
        "\n",
        "arreglo2=arreglo1.copy()\n",
        "\n",
        "print(\"ELEMENTO MAYOR \",arreglo2.max())\n",
        "print(\"ELEMENTO MENOR \",arreglo2.min())\n",
        "print(\"SUMA \",arreglo2.sum())\n",
        "print(\"PROMEDIO \",arreglo2.mean())\n",
        "\n",
        "print(arreglo2)\n",
        "\n",
        "\n"
      ],
      "metadata": {
        "colab": {
          "base_uri": "https://localhost:8080/"
        },
        "id": "ZhEMR0p7xhQZ",
        "outputId": "c16dd8e6-95fa-423a-c63b-563411e858ac"
      },
      "execution_count": null,
      "outputs": [
        {
          "output_type": "stream",
          "name": "stdout",
          "text": [
            "[0 0 0 0 0 0 0 0 0 0]\n",
            "[94 55 43 32 46 28  7 22 15  7]\n",
            "ELEMENTO MAYOR  94\n",
            "ELEMENTO MENOR  7\n",
            "SUMA  349\n",
            "PROMEDIO  34.9\n",
            "[94 55 43 32 46 28  7 22 15  7]\n"
          ]
        }
      ]
    },
    {
      "cell_type": "code",
      "source": [
        "import numpy as np\n",
        "import random as rd\n",
        "arregloA=np.zeros(100,dtype=int) #inicializa el arreglo con zeros \n",
        "print(arregloA)\n",
        "\n",
        "for i in range(100):\n",
        "  arregloA[i]=rd.randint(0,500)\n",
        "\n",
        "print(\"\\n\",arregloA)\n",
        "\n",
        "arregloA[::2]\n",
        "\n",
        "max= arregloA.max()\n",
        "print(\"\\nel mayor de los elementos del arreglo es: \", max)\n",
        "\n",
        "guardamayor=0\n",
        "j=0\n",
        "for i in range(len(arregloA)):\n",
        "  if arregloA[i]>guardamayor:\n",
        "    guardamayor=arregloA[i]\n",
        "    j=i\n",
        "\n",
        "print(\"\\nla posición (índice) del mayor es: \", j)\n",
        "\n",
        "min= arregloA.min()\n",
        "print(\"\\nel menor de los elementos del arreglo es:\", min)\n",
        "\n",
        "arregloB = arregloA[:].copy()\n",
        "\n",
        "print(\"\\n\",arregloB)\n",
        "\n",
        "arregloC= arregloB*3\n",
        "\n",
        "print(\"\\n\",arregloC)\n",
        "\n",
        "suma=arregloB.sum()\n",
        "print(\"\\nla suma de los elementos del arreglo B es:\",suma)\n",
        "\n",
        "promedio=arregloB.mean()\n",
        "print(\"\\nel promedio de los elementos del arreglo B es:\", promedio)\n"
      ],
      "metadata": {
        "colab": {
          "base_uri": "https://localhost:8080/"
        },
        "id": "PWYL8-OKRVzh",
        "outputId": "c32ea5c5-830c-4b4a-e403-3499e948e42e"
      },
      "execution_count": null,
      "outputs": [
        {
          "output_type": "stream",
          "name": "stdout",
          "text": [
            "[0 0 0 0 0 0 0 0 0 0 0 0 0 0 0 0 0 0 0 0 0 0 0 0 0 0 0 0 0 0 0 0 0 0 0 0 0\n",
            " 0 0 0 0 0 0 0 0 0 0 0 0 0 0 0 0 0 0 0 0 0 0 0 0 0 0 0 0 0 0 0 0 0 0 0 0 0\n",
            " 0 0 0 0 0 0 0 0 0 0 0 0 0 0 0 0 0 0 0 0 0 0 0 0 0 0]\n",
            "\n",
            " [121 215 393 422 406 136 386 459 475 179 284  75 220  93 463 249 245 246\n",
            " 163 414 226 330 349 251  75 195 321 228  32  87 376 467  41  11 472 436\n",
            " 325 121 438 457 144  29 170 190 305  65 470 218 373 352 414 344 228 212\n",
            " 400  76 314 196 113 274 190 298 330 100  46 413 342 124 387 232 231 289\n",
            " 162 137 286 165 193 237 243  52 168 286 361 278 377 236 295 107 448 495\n",
            " 348  86 478 267 490 156 271 317 240  47]\n",
            "\n",
            "el mayor de los elementos del arreglo es:  495\n",
            "\n",
            "la posición (índice) del mayor es:  89\n",
            "\n",
            "el menor de los elementos del arreglo es: 11\n",
            "\n",
            " [121 215 393 422 406 136 386 459 475 179 284  75 220  93 463 249 245 246\n",
            " 163 414 226 330 349 251  75 195 321 228  32  87 376 467  41  11 472 436\n",
            " 325 121 438 457 144  29 170 190 305  65 470 218 373 352 414 344 228 212\n",
            " 400  76 314 196 113 274 190 298 330 100  46 413 342 124 387 232 231 289\n",
            " 162 137 286 165 193 237 243  52 168 286 361 278 377 236 295 107 448 495\n",
            " 348  86 478 267 490 156 271 317 240  47]\n",
            "\n",
            " [ 363  645 1179 1266 1218  408 1158 1377 1425  537  852  225  660  279\n",
            " 1389  747  735  738  489 1242  678  990 1047  753  225  585  963  684\n",
            "   96  261 1128 1401  123   33 1416 1308  975  363 1314 1371  432   87\n",
            "  510  570  915  195 1410  654 1119 1056 1242 1032  684  636 1200  228\n",
            "  942  588  339  822  570  894  990  300  138 1239 1026  372 1161  696\n",
            "  693  867  486  411  858  495  579  711  729  156  504  858 1083  834\n",
            " 1131  708  885  321 1344 1485 1044  258 1434  801 1470  468  813  951\n",
            "  720  141]\n",
            "\n",
            "la suma de los elementos del arreglo B es: 25977\n",
            "\n",
            "el promedio de los elementos del arreglo B es: 259.77\n"
          ]
        }
      ]
    },
    {
      "cell_type": "code",
      "source": [
        "import numpy as np\n",
        "import random as rd\n",
        "matriz=np.zeros((3,3), dtype=int)\n",
        "print(matriz)\n",
        "for f in range(3):\n",
        "  for c in range(3):\n",
        "    matriz[f][c]=rd.randint(0,100)\n",
        "\n",
        "print(\"\\n\", matriz)\n"
      ],
      "metadata": {
        "colab": {
          "base_uri": "https://localhost:8080/"
        },
        "id": "g67Svve17TlB",
        "outputId": "4ddc88a8-2f9a-452b-cab0-dbd0b5f1841a"
      },
      "execution_count": null,
      "outputs": [
        {
          "output_type": "stream",
          "name": "stdout",
          "text": [
            "[[0 0 0]\n",
            " [0 0 0]\n",
            " [0 0 0]]\n",
            "\n",
            " [[51 45 58]\n",
            " [ 4 49 49]\n",
            " [95  5 52]]\n"
          ]
        }
      ]
    },
    {
      "cell_type": "markdown",
      "source": [
        "FUNCIONES"
      ],
      "metadata": {
        "id": "mN9HOo1LPk9i"
      }
    },
    {
      "cell_type": "code",
      "source": [
        "def calculariva(precio):\n",
        "    iva=precio*0.19\n",
        "    return iva\n",
        "\n",
        "def calculodescuento(precio,descuento):\n",
        "    descuento=precio*descuento/100\n",
        "    return descuento\n",
        "\n",
        "def calculoimc(peso,estatura):\n",
        "    IMC=peso/(estatura**2)\n",
        "    return IMC\n",
        "\n",
        "op=3\n",
        "while op!=4:\n",
        "    print(\"***MENU***\")\n",
        "    print(\"*\"*10)\n",
        "    print(\"1. Calcular IVA\")\n",
        "    print(\"1. Descuento\")\n",
        "    print(\"1. Calcular IMC\")\n",
        "    print(\"4. SALIR\")\n",
        "    op=int(input(\"Ingrese su opción: (1:4):\"))\n",
        "    if op==1:\n",
        "        precio=int(input(\"Ingrese precio del producto: \")) \n",
        "        iva=int(calculariva(precio))\n",
        "        print(\"El IVA del producto es: \", iva)\n",
        "    \n",
        "    if op==2:\n",
        "        precio=int(input(\"Ingrese precio del producto: \")) \n",
        "        descuento=int(input(\"Ingrese el porcentaje de descuento: \"))\n",
        "        valordesc=int(calculodescuento(precio,descuento))\n",
        "        print(\"El monto de descuento es: \", valordesc) \n",
        "        valorfinal=int(precio-valordesc)\n",
        "        print(\"El precio con el descuento aplicado es: \", valorfinal)\n",
        "\n",
        "    if op==3:\n",
        "        peso=float(input(\"Ingrese el peso: \"))\n",
        "        estatura=float(input(\"Ingrese la estatura: \"))\n",
        "        IMC=calculoimc(peso,estatura)\n",
        "        print(\"Su IMC es: \", round(IMC,2))\n",
        "        if IMC<18.5:\n",
        "            print(\"Bajo peso\")\n",
        "        elif IMC<24.9:\n",
        "            print(\"peso adecuado\")\n",
        "        elif IMC<29.9:\n",
        "            print(\"sobrepeso\")\n",
        "        elif IMC<34.9:\n",
        "            print(\"obesidad grado 1\")\n",
        "        elif IMC<39.9:\n",
        "            print(\"obesidad grado 2\")\n",
        "        else:\n",
        "            print(\"obesidad grado 3\")"
      ],
      "metadata": {
        "id": "nlzcBZklPZiG"
      },
      "execution_count": null,
      "outputs": []
    },
    {
      "cell_type": "code",
      "source": [
        "print(\"ejercicios con arreglos\")\n",
        "import numpy as np\n",
        "import random as rd\n",
        "'''arreglo1=np.arange(1,4)\n",
        "print(arreglo1)\n",
        "arreglo2=arreglo1[:].copy()\n",
        "print(arreglo2)\n",
        "arreglo2[0]=100\n",
        "print(arreglo2)\n",
        "print(arreglo1)\n",
        "arreglo1=arreglo1*2\n",
        "print(arreglo1)'''\n",
        "arregloA=np.zeros(100, dtype=int) #inicializa el arreglo\n",
        "print(arregloA)\n",
        "for i in range(len(arregloA)):\n",
        "    arregloA[i]=rd.randint(0,500)\n",
        "print(arregloA)\n",
        "for i in range(len(arregloA)):\n",
        "    if arregloA[i]%2==0:\n",
        "        print(arregloA[i])\n",
        "        print(\"la posición es: \", i)\n",
        "for i in range(len(arregloA)):\n",
        "    if i%2==0:\n",
        "        print(arregloA[i])\n",
        "mayor=arregloA.max()\n",
        "print(\"el mayor es:\",mayor)"
      ],
      "metadata": {
        "id": "7wHaa8jAPd_4"
      },
      "execution_count": null,
      "outputs": []
    }
  ]
}